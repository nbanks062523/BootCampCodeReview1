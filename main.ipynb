{
 "cells": [
  {
   "cell_type": "code",
   "execution_count": 18,
   "metadata": {},
   "outputs": [
    {
     "name": "stdout",
     "output_type": "stream",
     "text": [
      "sweatpants\n"
     ]
    }
   ],
   "source": [
    "# Create a function called fourth_place() that takes a list as an argument\n",
    "# The function should return the fourth item in the list and use try/except to catch index errors\n",
    "\n",
    "try:\n",
    "    item_list=[\"sweater\",\"cardigan\",\"jeans\",\"wrap dress\",\"sweatpants\"]\n",
    "\n",
    "    def fourth_place(requesteditem):\n",
    "        print(requesteditem[4])\n",
    "    \n",
    "   \n",
    "    fourth_place(item_list)\n",
    "except IndexError:\n",
    "    print(\"The requested item is not in the list\")\n",
    "\n",
    "    \n",
    "    \n"
   ]
  }
 ],
 "metadata": {
  "kernelspec": {
   "display_name": "venv",
   "language": "python",
   "name": "python3"
  },
  "language_info": {
   "codemirror_mode": {
    "name": "ipython",
    "version": 3
   },
   "file_extension": ".py",
   "mimetype": "text/x-python",
   "name": "python",
   "nbconvert_exporter": "python",
   "pygments_lexer": "ipython3",
   "version": "3.10.12"
  }
 },
 "nbformat": 4,
 "nbformat_minor": 2
}
