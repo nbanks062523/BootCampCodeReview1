{
 "cells": [
  {
   "cell_type": "code",
   "execution_count": 18,
   "metadata": {},
   "outputs": [
    {
     "name": "stdout",
     "output_type": "stream",
     "text": [
      "sweatpants\n"
     ]
    }
   ],
   "source": [
    "# Create a function called fourth_place() that takes a list as an argument\n",
    "# The function should return the fourth item in the list and use try/except to catch index errors\n",
    "\n",
    "try:\n",
    "    item_list=[\"sweater\",\"cardigan\",\"jeans\",\"wrap dress\",\"sweatpants\"]\n",
    "\n",
    "    def fourth_place(requesteditem):\n",
    "        print(requesteditem[4])\n",
    "    \n",
    "   \n",
    "    fourth_place(item_list)\n",
    "except IndexError:\n",
    "    print(\"The requested item is not in the list\")\n",
    "\n",
    "    \n",
    "    \n"
   ]
  },
  {
   "cell_type": "code",
   "execution_count": 18,
   "metadata": {},
   "outputs": [
    {
     "name": "stdout",
     "output_type": "stream",
     "text": [
      "The dictionary is empty\n",
      "False\n"
     ]
    }
   ],
   "source": [
    "# Create a function called dict_sayer() that takes a dictionary as an argument\n",
    "# check whether the dictionary is empty, if the dictionary isn't empty, print a string for each item\n",
    "# with the name and key value of each item and return \"True\"\n",
    "# if the dictionary is empty, print a string saying that the dictionary is empty and return \"False\"\n",
    "\n",
    "authors={\"Name:\":\"Charles Dickens\",\"Book 1:\":\"Oliver Twist\",\"Book 2:\":\"Great Expectations\"}\n",
    "\n",
    "def dict_sayer(dict_item):\n",
    "    if len(authors)==0:\n",
    "        print(f\"The dictionary is empty\")\n",
    "        print(\"Name:\" in authors.keys())\n",
    "    else:\n",
    "        print(\"Name:\" in authors.keys())\n",
    "        for k,v in dict_item:\n",
    "            print(k,v)\n",
    "            \n",
    "dict_sayer(authors.items())\n",
    "\n"
   ]
  },
  {
   "cell_type": "code",
   "execution_count": 25,
   "metadata": {},
   "outputs": [
    {
     "name": "stdout",
     "output_type": "stream",
     "text": [
      "My home planet is Saturn. My friend is from Jupiter\n",
      "My home planet is Saturn. My friend is from Mars\n",
      "My home planet is Saturn. My friend is from Earth\n",
      "My home planet is Saturn. My friend is from Venus\n",
      "When someone asks us if Pluto is a planet, we say No!\n"
     ]
    }
   ],
   "source": [
    "# Write a function called galaxy()\n",
    "# The function should take a positional argument of the users home planet , a varying number of arguments and\n",
    "# a keyword argument of \"pluto_is_planet\" which defaults to a boolean of your choice\n",
    "# put all of the arguments into a string and return the string\n",
    "\n",
    "def galaxy(homeplanet,*args,pluto_is_planet =\"Yes\"):\n",
    "    for arg in args:\n",
    "        print(f\"My home planet is {homeplanet}. My friend is from \"+ arg)\n",
    "    print(f\"When someone asks us if Pluto is a planet, we say {pluto_is_planet}!\")\n",
    "    \n",
    "galaxy(\"Saturn\",\"Jupiter\",\"Mars\",\"Earth\",\"Venus\",pluto_is_planet=\"No\")"
   ]
  },
  {
   "cell_type": "code",
   "execution_count": 2,
   "metadata": {},
   "outputs": [
    {
     "name": "stdout",
     "output_type": "stream",
     "text": [
      "My cat's name is flash , his color is grey and when he's hungry, he says Mmmrreow!\n"
     ]
    }
   ],
   "source": [
    "# Define a class called \"cat\", cat should have the following:\n",
    "# an attribute of \"color\", an attribute of \"name\", A method called \"Meow\" that prints \"Mmmrreow!\"\n",
    "\n",
    "class Cat:\n",
    "  def __init__(self, color, name):\n",
    "    self.color = color\n",
    "    self.name = name\n",
    "  def meow(self):\n",
    "    print (f\"My cat's name is {self.name} , his color is {self.color} and when he's hungry, he says Mmmrreow!\")\n",
    "\n",
    "my_cat = Cat(\"grey\", \"flash\")\n",
    "\n",
    "my_cat.meow()\n"
   ]
  },
  {
   "cell_type": "code",
   "execution_count": 3,
   "metadata": {},
   "outputs": [
    {
     "data": {
      "text/plain": [
       "'flash'"
      ]
     },
     "execution_count": 3,
     "metadata": {},
     "output_type": "execute_result"
    }
   ],
   "source": [
    "# use dot notation to show the cat's name\n",
    "my_cat.name"
   ]
  }
 ],
 "metadata": {
  "kernelspec": {
   "display_name": "venv",
   "language": "python",
   "name": "python3"
  },
  "language_info": {
   "codemirror_mode": {
    "name": "ipython",
    "version": 3
   },
   "file_extension": ".py",
   "mimetype": "text/x-python",
   "name": "python",
   "nbconvert_exporter": "python",
   "pygments_lexer": "ipython3",
   "version": "3.10.12"
  }
 },
 "nbformat": 4,
 "nbformat_minor": 2
}
